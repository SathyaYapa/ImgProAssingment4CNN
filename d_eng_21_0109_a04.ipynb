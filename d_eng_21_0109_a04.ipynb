{
 "cells": [
  {
   "cell_type": "code",
   "execution_count": null,
   "metadata": {},
   "outputs": [],
   "source": [
    "import tensorflow as tf\n",
    "from tensorflow import keras\n",
    "from tensorflow.keras import datasets, layers, models\n",
    "import numpy as np\n",
    "import matplotlib.pyplot as plt\n",
    "\n",
    "(x_train, y_train), (x_test, y_test) = datasets.mnist.load_data()\n",
    "paddings = tf.constant([[0,0], [2,2], [2,2]])\n",
    "x_train = tf.pad(x_train, paddings, constant_values=0)\n",
    "x_test = tf.pad(x_test, paddings, constant_values=0)\n",
    "\n",
    "class_names = ['0', '1', '2', '3', '4', '5', '6', '7', '8', '9']\n",
    "x_train = tf.dtypes.cast(x_train, tf.float32)\n",
    "x_test = tf.dtypes.cast(x_test, tf.float32)\n",
    "x_train, x_test = x_train[..., np.newaxis]/255., x_test[..., np.newaxis]/255.\n",
    "\n",
    "model = models.Sequential()\n",
    "model.add(layers.Conv2D(6, (5,5), activation='relu', input_shape=(32,32,1)))\n",
    "model.add(layers.AveragePooling2D((2,2)))\n",
    "model.add(layers.Conv2D(16, (5,5), activation='relu'))\n",
    "model.add(layers.AveragePooling2D((2,2)))\n",
    "model.add(layers.Flatten())\n",
    "model.add(layers.Dense(120, activation='relu'))\n",
    "model.add(layers.Dense(84, activation='relu'))\n",
    "model.add(layers.Dense(10))\n",
    "\n",
    "model.compile(optimizer='adam', loss=keras.losses.SparseCategoricalCrossentropy(from_logits=True), metrics=['accuracy'])\n",
    "print(model.summary())\n",
    "model.fit(x_train, y_train, epochs=2)\n",
    "\n",
    "test_loss, test_accuracy = model.evaluate(x_test, y_test, verbose=2)\n",
    "print('Test accuracy = ', test_accuracy)"
   ]
  }
 ],
 "metadata": {
  "kernelspec": {
   "display_name": "Python 3",
   "language": "python",
   "name": "python3"
  },
  "language_info": {
   "name": "python",
   "version": "3.11.1"
  },
  "orig_nbformat": 4
 },
 "nbformat": 4,
 "nbformat_minor": 2
}
